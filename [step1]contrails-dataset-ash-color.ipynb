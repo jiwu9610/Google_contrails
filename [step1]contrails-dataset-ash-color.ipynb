{
 "cells": [
  {
   "cell_type": "markdown",
   "id": "087f4ba3",
   "metadata": {
    "papermill": {
     "duration": 0.005985,
     "end_time": "2023-06-05T09:06:57.509833",
     "exception": false,
     "start_time": "2023-06-05T09:06:57.503848",
     "status": "completed"
    },
    "tags": []
   },
   "source": [
    "## Ash Color Images Dataset Creation Notebook\n",
    "\n",
    "We will create a Ash Color Images dataset of the satellite images of this competition for our models using this notebook. Some main points:\n",
    "* Save only the labeled frame, which will be used for training.\n",
    "* Save only the human_pixel_masks.\n",
    "* Save the ash color image and the mask label in the same numpy file, so that we have to load only one file during training.\n",
    "* Save the final numpy arrays in float16 dtype to reduce total data size."
   ]
  },
  {
   "cell_type": "code",
   "execution_count": 1,
   "id": "3c2e1c1b",
   "metadata": {
    "_cell_guid": "b1076dfc-b9ad-4769-8c92-a6c4dae69d19",
    "_uuid": "8f2839f25d086af736a60e9eeb907d3b93b6e0e5",
    "execution": {
     "iopub.execute_input": "2023-06-05T09:06:57.522410Z",
     "iopub.status.busy": "2023-06-05T09:06:57.522001Z",
     "iopub.status.idle": "2023-06-05T09:06:57.644165Z",
     "shell.execute_reply": "2023-06-05T09:06:57.642875Z"
    },
    "papermill": {
     "duration": 0.131738,
     "end_time": "2023-06-05T09:06:57.647143",
     "exception": false,
     "start_time": "2023-06-05T09:06:57.515405",
     "status": "completed"
    },
    "tags": []
   },
   "outputs": [],
   "source": [
    "import numpy as np\n",
    "import pandas as pd\n",
    "import matplotlib.pyplot as plt\n",
    "\n",
    "import os\n",
    "from tqdm.notebook import tqdm\n",
    "from pathlib import Path"
   ]
  },
  {
   "cell_type": "code",
   "execution_count": 2,
   "id": "92383109",
   "metadata": {
    "execution": {
     "iopub.execute_input": "2023-06-05T09:06:57.660248Z",
     "iopub.status.busy": "2023-06-05T09:06:57.659846Z",
     "iopub.status.idle": "2023-06-05T09:06:57.665733Z",
     "shell.execute_reply": "2023-06-05T09:06:57.664297Z"
    },
    "papermill": {
     "duration": 0.015879,
     "end_time": "2023-06-05T09:06:57.668962",
     "exception": false,
     "start_time": "2023-06-05T09:06:57.653083",
     "status": "completed"
    },
    "tags": []
   },
   "outputs": [],
   "source": [
    "data_dir = '/kaggle/input/google-research-identify-contrails-reduce-global-warming/'"
   ]
  },
  {
   "cell_type": "markdown",
   "id": "b61c95df",
   "metadata": {
    "papermill": {
     "duration": 0.005262,
     "end_time": "2023-06-05T09:06:57.680214",
     "exception": false,
     "start_time": "2023-06-05T09:06:57.674952",
     "status": "completed"
    },
    "tags": []
   },
   "source": [
    "## Make the DataFrames\n",
    "\n",
    "We will create train and valid dataframes, which will contain the record ids for each image."
   ]
  },
  {
   "cell_type": "code",
   "execution_count": 3,
   "id": "0bf81e61",
   "metadata": {
    "execution": {
     "iopub.execute_input": "2023-06-05T09:06:57.692831Z",
     "iopub.status.busy": "2023-06-05T09:06:57.692426Z",
     "iopub.status.idle": "2023-06-05T09:06:58.343320Z",
     "shell.execute_reply": "2023-06-05T09:06:58.342100Z"
    },
    "papermill": {
     "duration": 0.660704,
     "end_time": "2023-06-05T09:06:58.346258",
     "exception": false,
     "start_time": "2023-06-05T09:06:57.685554",
     "status": "completed"
    },
    "tags": []
   },
   "outputs": [],
   "source": [
    "train_rs = os.listdir(data_dir + 'train')\n",
    "valid_rs = os.listdir(data_dir + 'validation')\n",
    "\n",
    "train_df = pd.DataFrame(train_rs, columns=['record_id'])\n",
    "valid_df = pd.DataFrame(valid_rs, columns=['record_id'])\n",
    "\n",
    "train_df['train'] = 'train'\n",
    "valid_df['train'] = 'valid'"
   ]
  },
  {
   "cell_type": "code",
   "execution_count": 4,
   "id": "3b8eb606",
   "metadata": {
    "execution": {
     "iopub.execute_input": "2023-06-05T09:06:58.359225Z",
     "iopub.status.busy": "2023-06-05T09:06:58.358658Z",
     "iopub.status.idle": "2023-06-05T09:06:58.367815Z",
     "shell.execute_reply": "2023-06-05T09:06:58.366679Z"
    },
    "papermill": {
     "duration": 0.018505,
     "end_time": "2023-06-05T09:06:58.370316",
     "exception": false,
     "start_time": "2023-06-05T09:06:58.351811",
     "status": "completed"
    },
    "tags": []
   },
   "outputs": [
    {
     "data": {
      "text/plain": [
       "((20529, 2), (1856, 2))"
      ]
     },
     "execution_count": 4,
     "metadata": {},
     "output_type": "execute_result"
    }
   ],
   "source": [
    "train_df.shape, valid_df.shape"
   ]
  },
  {
   "cell_type": "code",
   "execution_count": 5,
   "id": "995abdf7",
   "metadata": {
    "execution": {
     "iopub.execute_input": "2023-06-05T09:06:58.383863Z",
     "iopub.status.busy": "2023-06-05T09:06:58.383454Z",
     "iopub.status.idle": "2023-06-05T09:06:58.407644Z",
     "shell.execute_reply": "2023-06-05T09:06:58.406497Z"
    },
    "papermill": {
     "duration": 0.034337,
     "end_time": "2023-06-05T09:06:58.410214",
     "exception": false,
     "start_time": "2023-06-05T09:06:58.375877",
     "status": "completed"
    },
    "tags": []
   },
   "outputs": [
    {
     "data": {
      "text/html": [
       "<div>\n",
       "<style scoped>\n",
       "    .dataframe tbody tr th:only-of-type {\n",
       "        vertical-align: middle;\n",
       "    }\n",
       "\n",
       "    .dataframe tbody tr th {\n",
       "        vertical-align: top;\n",
       "    }\n",
       "\n",
       "    .dataframe thead th {\n",
       "        text-align: right;\n",
       "    }\n",
       "</style>\n",
       "<table border=\"1\" class=\"dataframe\">\n",
       "  <thead>\n",
       "    <tr style=\"text-align: right;\">\n",
       "      <th></th>\n",
       "      <th>record_id</th>\n",
       "      <th>train</th>\n",
       "    </tr>\n",
       "  </thead>\n",
       "  <tbody>\n",
       "    <tr>\n",
       "      <th>0</th>\n",
       "      <td>1284412112608546821</td>\n",
       "      <td>train</td>\n",
       "    </tr>\n",
       "    <tr>\n",
       "      <th>1</th>\n",
       "      <td>7457695218848685981</td>\n",
       "      <td>train</td>\n",
       "    </tr>\n",
       "    <tr>\n",
       "      <th>2</th>\n",
       "      <td>836236084461732921</td>\n",
       "      <td>train</td>\n",
       "    </tr>\n",
       "    <tr>\n",
       "      <th>3</th>\n",
       "      <td>7829917977180135058</td>\n",
       "      <td>train</td>\n",
       "    </tr>\n",
       "    <tr>\n",
       "      <th>4</th>\n",
       "      <td>5319255125658459358</td>\n",
       "      <td>train</td>\n",
       "    </tr>\n",
       "  </tbody>\n",
       "</table>\n",
       "</div>"
      ],
      "text/plain": [
       "             record_id  train\n",
       "0  1284412112608546821  train\n",
       "1  7457695218848685981  train\n",
       "2   836236084461732921  train\n",
       "3  7829917977180135058  train\n",
       "4  5319255125658459358  train"
      ]
     },
     "execution_count": 5,
     "metadata": {},
     "output_type": "execute_result"
    }
   ],
   "source": [
    "train_df.head()"
   ]
  },
  {
   "cell_type": "code",
   "execution_count": 6,
   "id": "77c10c33",
   "metadata": {
    "execution": {
     "iopub.execute_input": "2023-06-05T09:06:58.426131Z",
     "iopub.status.busy": "2023-06-05T09:06:58.424831Z",
     "iopub.status.idle": "2023-06-05T09:06:58.513901Z",
     "shell.execute_reply": "2023-06-05T09:06:58.512421Z"
    },
    "papermill": {
     "duration": 0.099334,
     "end_time": "2023-06-05T09:06:58.517005",
     "exception": false,
     "start_time": "2023-06-05T09:06:58.417671",
     "status": "completed"
    },
    "tags": []
   },
   "outputs": [],
   "source": [
    "train_df.to_csv('train_df.csv', index=False)\n",
    "valid_df.to_csv('valid_df.csv', index=False)"
   ]
  },
  {
   "cell_type": "markdown",
   "id": "b8998fef",
   "metadata": {
    "papermill": {
     "duration": 0.005545,
     "end_time": "2023-06-05T09:06:58.528554",
     "exception": false,
     "start_time": "2023-06-05T09:06:58.523009",
     "status": "completed"
    },
    "tags": []
   },
   "source": [
    "## Save the Images as Numpy arrays"
   ]
  },
  {
   "cell_type": "code",
   "execution_count": 7,
   "id": "05adae41",
   "metadata": {
    "execution": {
     "iopub.execute_input": "2023-06-05T09:06:58.541857Z",
     "iopub.status.busy": "2023-06-05T09:06:58.541478Z",
     "iopub.status.idle": "2023-06-05T09:06:58.547933Z",
     "shell.execute_reply": "2023-06-05T09:06:58.546724Z"
    },
    "papermill": {
     "duration": 0.016148,
     "end_time": "2023-06-05T09:06:58.550459",
     "exception": false,
     "start_time": "2023-06-05T09:06:58.534311",
     "status": "completed"
    },
    "tags": []
   },
   "outputs": [],
   "source": [
    "def read_record(record_id, directory):\n",
    "    record_data = {}\n",
    "    for x in [\n",
    "        \"band_11\", \n",
    "        \"band_14\", \n",
    "        \"band_15\", \n",
    "        \"human_pixel_masks\"\n",
    "    ]:\n",
    "\n",
    "        record_data[x] = np.load(os.path.join(directory, record_id, x + \".npy\"))\n",
    "    \n",
    "    return record_data"
   ]
  },
  {
   "cell_type": "code",
   "execution_count": 8,
   "id": "b1294670",
   "metadata": {
    "execution": {
     "iopub.execute_input": "2023-06-05T09:06:58.564653Z",
     "iopub.status.busy": "2023-06-05T09:06:58.564253Z",
     "iopub.status.idle": "2023-06-05T09:06:58.571207Z",
     "shell.execute_reply": "2023-06-05T09:06:58.569924Z"
    },
    "papermill": {
     "duration": 0.017109,
     "end_time": "2023-06-05T09:06:58.573764",
     "exception": false,
     "start_time": "2023-06-05T09:06:58.556655",
     "status": "completed"
    },
    "tags": []
   },
   "outputs": [],
   "source": [
    "_T11_BOUNDS = (243, 303)\n",
    "_CLOUD_TOP_TDIFF_BOUNDS = (-4, 5)\n",
    "_TDIFF_BOUNDS = (-4, 2)\n",
    "\n",
    "def normalize_range(data, bounds):\n",
    "    \"\"\"Maps data to the range [0, 1].\"\"\"\n",
    "    return (data - bounds[0]) / (bounds[1] - bounds[0])\n",
    "\n",
    "N_TIMES_BEFORE = 4"
   ]
  },
  {
   "cell_type": "code",
   "execution_count": 9,
   "id": "cabf42ee",
   "metadata": {
    "execution": {
     "iopub.execute_input": "2023-06-05T09:06:58.587173Z",
     "iopub.status.busy": "2023-06-05T09:06:58.586766Z",
     "iopub.status.idle": "2023-06-05T09:06:58.594260Z",
     "shell.execute_reply": "2023-06-05T09:06:58.593096Z"
    },
    "papermill": {
     "duration": 0.01702,
     "end_time": "2023-06-05T09:06:58.596598",
     "exception": false,
     "start_time": "2023-06-05T09:06:58.579578",
     "status": "completed"
    },
    "tags": []
   },
   "outputs": [],
   "source": [
    "def get_false_color(record_data):\n",
    "    _T11_BOUNDS = (243, 303)\n",
    "    _CLOUD_TOP_TDIFF_BOUNDS = (-4, 5)\n",
    "    _TDIFF_BOUNDS = (-4, 2)\n",
    "\n",
    "    r = normalize_range(record_data[\"band_15\"] - record_data[\"band_14\"], _TDIFF_BOUNDS)\n",
    "    g = normalize_range(record_data[\"band_14\"] - record_data[\"band_11\"], _CLOUD_TOP_TDIFF_BOUNDS)\n",
    "    b = normalize_range(record_data[\"band_14\"], _T11_BOUNDS)\n",
    "    false_color = np.clip(np.stack([r, g, b], axis=2), 0, 1)\n",
    "    img = false_color[..., N_TIMES_BEFORE]\n",
    "    \n",
    "    return img"
   ]
  },
  {
   "cell_type": "code",
   "execution_count": 10,
   "id": "467e5b8d",
   "metadata": {
    "execution": {
     "iopub.execute_input": "2023-06-05T09:06:58.610141Z",
     "iopub.status.busy": "2023-06-05T09:06:58.609731Z",
     "iopub.status.idle": "2023-06-05T09:06:58.615279Z",
     "shell.execute_reply": "2023-06-05T09:06:58.614080Z"
    },
    "papermill": {
     "duration": 0.015081,
     "end_time": "2023-06-05T09:06:58.617560",
     "exception": false,
     "start_time": "2023-06-05T09:06:58.602479",
     "status": "completed"
    },
    "tags": []
   },
   "outputs": [],
   "source": [
    "path = Path('contrails')\n",
    "path.mkdir(exist_ok=True, parents=True)"
   ]
  },
  {
   "cell_type": "code",
   "execution_count": 11,
   "id": "7e06bdd5",
   "metadata": {
    "execution": {
     "iopub.execute_input": "2023-06-05T09:06:58.631474Z",
     "iopub.status.busy": "2023-06-05T09:06:58.630356Z",
     "iopub.status.idle": "2023-06-05T09:56:26.407089Z",
     "shell.execute_reply": "2023-06-05T09:56:26.403343Z"
    },
    "papermill": {
     "duration": 2967.791157,
     "end_time": "2023-06-05T09:56:26.414512",
     "exception": false,
     "start_time": "2023-06-05T09:06:58.623355",
     "status": "completed"
    },
    "tags": []
   },
   "outputs": [
    {
     "data": {
      "application/vnd.jupyter.widget-view+json": {
       "model_id": "41bbf4d046804abd984d7909b0d586ab",
       "version_major": 2,
       "version_minor": 0
      },
      "text/plain": [
       "  0%|          | 0/20529 [00:00<?, ?it/s]"
      ]
     },
     "metadata": {},
     "output_type": "display_data"
    }
   ],
   "source": [
    "#Train\n",
    "for i in tqdm(train_rs):\n",
    "    data = read_record(str(i), data_dir+'train')\n",
    "    img = get_false_color(data)\n",
    "    final = np.dstack([img, data['human_pixel_masks']])\n",
    "    final = final.astype(np.float16)\n",
    "    \n",
    "    pathc = path/f\"{i}.npy\"\n",
    "    np.save(str(pathc), final)"
   ]
  },
  {
   "cell_type": "code",
   "execution_count": 12,
   "id": "bed63875",
   "metadata": {
    "execution": {
     "iopub.execute_input": "2023-06-05T09:56:26.437429Z",
     "iopub.status.busy": "2023-06-05T09:56:26.436705Z",
     "iopub.status.idle": "2023-06-05T10:00:33.078094Z",
     "shell.execute_reply": "2023-06-05T10:00:33.076675Z"
    },
    "papermill": {
     "duration": 246.658623,
     "end_time": "2023-06-05T10:00:33.082795",
     "exception": false,
     "start_time": "2023-06-05T09:56:26.424172",
     "status": "completed"
    },
    "tags": []
   },
   "outputs": [
    {
     "data": {
      "application/vnd.jupyter.widget-view+json": {
       "model_id": "a9187a1a43204e969f080e0784269428",
       "version_major": 2,
       "version_minor": 0
      },
      "text/plain": [
       "  0%|          | 0/1856 [00:00<?, ?it/s]"
      ]
     },
     "metadata": {},
     "output_type": "display_data"
    }
   ],
   "source": [
    "#Valid\n",
    "for i in tqdm(valid_rs):\n",
    "    data = read_record(str(i), data_dir+'validation')\n",
    "    img = get_false_color(data)\n",
    "    final = np.dstack([img, data['human_pixel_masks']])\n",
    "    final = final.astype(np.float16)\n",
    "    \n",
    "    pathc = path/f\"{i}.npy\"\n",
    "    np.save(str(pathc), final)"
   ]
  }
 ],
 "metadata": {
  "kernelspec": {
   "display_name": "Python 3",
   "language": "python",
   "name": "python3"
  },
  "language_info": {
   "codemirror_mode": {
    "name": "ipython",
    "version": 3
   },
   "file_extension": ".py",
   "mimetype": "text/x-python",
   "name": "python",
   "nbconvert_exporter": "python",
   "pygments_lexer": "ipython3",
   "version": "3.10.10"
  },
  "papermill": {
   "default_parameters": {},
   "duration": 3230.285273,
   "end_time": "2023-06-05T10:00:34.640571",
   "environment_variables": {},
   "exception": null,
   "input_path": "__notebook__.ipynb",
   "output_path": "__notebook__.ipynb",
   "parameters": {},
   "start_time": "2023-06-05T09:06:44.355298",
   "version": "2.4.0"
  },
  "widgets": {
   "application/vnd.jupyter.widget-state+json": {
    "state": {
     "0ea4eccac5494724b5beab83968efc88": {
      "model_module": "@jupyter-widgets/base",
      "model_module_version": "1.2.0",
      "model_name": "LayoutModel",
      "state": {
       "_model_module": "@jupyter-widgets/base",
       "_model_module_version": "1.2.0",
       "_model_name": "LayoutModel",
       "_view_count": null,
       "_view_module": "@jupyter-widgets/base",
       "_view_module_version": "1.2.0",
       "_view_name": "LayoutView",
       "align_content": null,
       "align_items": null,
       "align_self": null,
       "border": null,
       "bottom": null,
       "display": null,
       "flex": null,
       "flex_flow": null,
       "grid_area": null,
       "grid_auto_columns": null,
       "grid_auto_flow": null,
       "grid_auto_rows": null,
       "grid_column": null,
       "grid_gap": null,
       "grid_row": null,
       "grid_template_areas": null,
       "grid_template_columns": null,
       "grid_template_rows": null,
       "height": null,
       "justify_content": null,
       "justify_items": null,
       "left": null,
       "margin": null,
       "max_height": null,
       "max_width": null,
       "min_height": null,
       "min_width": null,
       "object_fit": null,
       "object_position": null,
       "order": null,
       "overflow": null,
       "overflow_x": null,
       "overflow_y": null,
       "padding": null,
       "right": null,
       "top": null,
       "visibility": null,
       "width": null
      }
     },
     "1cd7e981613d44f294495da5b20f5376": {
      "model_module": "@jupyter-widgets/controls",
      "model_module_version": "1.5.0",
      "model_name": "FloatProgressModel",
      "state": {
       "_dom_classes": [],
       "_model_module": "@jupyter-widgets/controls",
       "_model_module_version": "1.5.0",
       "_model_name": "FloatProgressModel",
       "_view_count": null,
       "_view_module": "@jupyter-widgets/controls",
       "_view_module_version": "1.5.0",
       "_view_name": "ProgressView",
       "bar_style": "success",
       "description": "",
       "description_tooltip": null,
       "layout": "IPY_MODEL_c895bf0adf094e5988fb4c03ab44cd76",
       "max": 1856.0,
       "min": 0.0,
       "orientation": "horizontal",
       "style": "IPY_MODEL_7dc8965851c04fd6ac16035a9cf06de4",
       "value": 1856.0
      }
     },
     "2eaba6a7a0c14efbad29a2932bbd6019": {
      "model_module": "@jupyter-widgets/controls",
      "model_module_version": "1.5.0",
      "model_name": "DescriptionStyleModel",
      "state": {
       "_model_module": "@jupyter-widgets/controls",
       "_model_module_version": "1.5.0",
       "_model_name": "DescriptionStyleModel",
       "_view_count": null,
       "_view_module": "@jupyter-widgets/base",
       "_view_module_version": "1.2.0",
       "_view_name": "StyleView",
       "description_width": ""
      }
     },
     "33ee9507c98c450f8244307c9934a603": {
      "model_module": "@jupyter-widgets/base",
      "model_module_version": "1.2.0",
      "model_name": "LayoutModel",
      "state": {
       "_model_module": "@jupyter-widgets/base",
       "_model_module_version": "1.2.0",
       "_model_name": "LayoutModel",
       "_view_count": null,
       "_view_module": "@jupyter-widgets/base",
       "_view_module_version": "1.2.0",
       "_view_name": "LayoutView",
       "align_content": null,
       "align_items": null,
       "align_self": null,
       "border": null,
       "bottom": null,
       "display": null,
       "flex": null,
       "flex_flow": null,
       "grid_area": null,
       "grid_auto_columns": null,
       "grid_auto_flow": null,
       "grid_auto_rows": null,
       "grid_column": null,
       "grid_gap": null,
       "grid_row": null,
       "grid_template_areas": null,
       "grid_template_columns": null,
       "grid_template_rows": null,
       "height": null,
       "justify_content": null,
       "justify_items": null,
       "left": null,
       "margin": null,
       "max_height": null,
       "max_width": null,
       "min_height": null,
       "min_width": null,
       "object_fit": null,
       "object_position": null,
       "order": null,
       "overflow": null,
       "overflow_x": null,
       "overflow_y": null,
       "padding": null,
       "right": null,
       "top": null,
       "visibility": null,
       "width": null
      }
     },
     "41966e6d104b48ff8efb4d1afe4c889e": {
      "model_module": "@jupyter-widgets/base",
      "model_module_version": "1.2.0",
      "model_name": "LayoutModel",
      "state": {
       "_model_module": "@jupyter-widgets/base",
       "_model_module_version": "1.2.0",
       "_model_name": "LayoutModel",
       "_view_count": null,
       "_view_module": "@jupyter-widgets/base",
       "_view_module_version": "1.2.0",
       "_view_name": "LayoutView",
       "align_content": null,
       "align_items": null,
       "align_self": null,
       "border": null,
       "bottom": null,
       "display": null,
       "flex": null,
       "flex_flow": null,
       "grid_area": null,
       "grid_auto_columns": null,
       "grid_auto_flow": null,
       "grid_auto_rows": null,
       "grid_column": null,
       "grid_gap": null,
       "grid_row": null,
       "grid_template_areas": null,
       "grid_template_columns": null,
       "grid_template_rows": null,
       "height": null,
       "justify_content": null,
       "justify_items": null,
       "left": null,
       "margin": null,
       "max_height": null,
       "max_width": null,
       "min_height": null,
       "min_width": null,
       "object_fit": null,
       "object_position": null,
       "order": null,
       "overflow": null,
       "overflow_x": null,
       "overflow_y": null,
       "padding": null,
       "right": null,
       "top": null,
       "visibility": null,
       "width": null
      }
     },
     "41ac542adaee4d2b8baa777e7a55dcc1": {
      "model_module": "@jupyter-widgets/controls",
      "model_module_version": "1.5.0",
      "model_name": "HTMLModel",
      "state": {
       "_dom_classes": [],
       "_model_module": "@jupyter-widgets/controls",
       "_model_module_version": "1.5.0",
       "_model_name": "HTMLModel",
       "_view_count": null,
       "_view_module": "@jupyter-widgets/controls",
       "_view_module_version": "1.5.0",
       "_view_name": "HTMLView",
       "description": "",
       "description_tooltip": null,
       "layout": "IPY_MODEL_81f79c5e11f947fb91ac86c1626eebc6",
       "placeholder": "​",
       "style": "IPY_MODEL_d2a7010b4701445c92b5a9e72b64a755",
       "value": " 20529/20529 [49:27&lt;00:00,  7.00it/s]"
      }
     },
     "41bbf4d046804abd984d7909b0d586ab": {
      "model_module": "@jupyter-widgets/controls",
      "model_module_version": "1.5.0",
      "model_name": "HBoxModel",
      "state": {
       "_dom_classes": [],
       "_model_module": "@jupyter-widgets/controls",
       "_model_module_version": "1.5.0",
       "_model_name": "HBoxModel",
       "_view_count": null,
       "_view_module": "@jupyter-widgets/controls",
       "_view_module_version": "1.5.0",
       "_view_name": "HBoxView",
       "box_style": "",
       "children": [
        "IPY_MODEL_f3a522d483cd4e5e8b337a4b75389a57",
        "IPY_MODEL_989038a077774cd599231450c1ef3c11",
        "IPY_MODEL_41ac542adaee4d2b8baa777e7a55dcc1"
       ],
       "layout": "IPY_MODEL_33ee9507c98c450f8244307c9934a603"
      }
     },
     "510ec36a9abd41b7ba35f545a0d40eb1": {
      "model_module": "@jupyter-widgets/controls",
      "model_module_version": "1.5.0",
      "model_name": "DescriptionStyleModel",
      "state": {
       "_model_module": "@jupyter-widgets/controls",
       "_model_module_version": "1.5.0",
       "_model_name": "DescriptionStyleModel",
       "_view_count": null,
       "_view_module": "@jupyter-widgets/base",
       "_view_module_version": "1.2.0",
       "_view_name": "StyleView",
       "description_width": ""
      }
     },
     "5f37bc5df2fb4f42906b678cad5f1030": {
      "model_module": "@jupyter-widgets/controls",
      "model_module_version": "1.5.0",
      "model_name": "HTMLModel",
      "state": {
       "_dom_classes": [],
       "_model_module": "@jupyter-widgets/controls",
       "_model_module_version": "1.5.0",
       "_model_name": "HTMLModel",
       "_view_count": null,
       "_view_module": "@jupyter-widgets/controls",
       "_view_module_version": "1.5.0",
       "_view_name": "HTMLView",
       "description": "",
       "description_tooltip": null,
       "layout": "IPY_MODEL_0ea4eccac5494724b5beab83968efc88",
       "placeholder": "​",
       "style": "IPY_MODEL_2eaba6a7a0c14efbad29a2932bbd6019",
       "value": "100%"
      }
     },
     "60cbebb2ae1a45ec970c833ccf421b98": {
      "model_module": "@jupyter-widgets/controls",
      "model_module_version": "1.5.0",
      "model_name": "DescriptionStyleModel",
      "state": {
       "_model_module": "@jupyter-widgets/controls",
       "_model_module_version": "1.5.0",
       "_model_name": "DescriptionStyleModel",
       "_view_count": null,
       "_view_module": "@jupyter-widgets/base",
       "_view_module_version": "1.2.0",
       "_view_name": "StyleView",
       "description_width": ""
      }
     },
     "7dc8965851c04fd6ac16035a9cf06de4": {
      "model_module": "@jupyter-widgets/controls",
      "model_module_version": "1.5.0",
      "model_name": "ProgressStyleModel",
      "state": {
       "_model_module": "@jupyter-widgets/controls",
       "_model_module_version": "1.5.0",
       "_model_name": "ProgressStyleModel",
       "_view_count": null,
       "_view_module": "@jupyter-widgets/base",
       "_view_module_version": "1.2.0",
       "_view_name": "StyleView",
       "bar_color": null,
       "description_width": ""
      }
     },
     "81f79c5e11f947fb91ac86c1626eebc6": {
      "model_module": "@jupyter-widgets/base",
      "model_module_version": "1.2.0",
      "model_name": "LayoutModel",
      "state": {
       "_model_module": "@jupyter-widgets/base",
       "_model_module_version": "1.2.0",
       "_model_name": "LayoutModel",
       "_view_count": null,
       "_view_module": "@jupyter-widgets/base",
       "_view_module_version": "1.2.0",
       "_view_name": "LayoutView",
       "align_content": null,
       "align_items": null,
       "align_self": null,
       "border": null,
       "bottom": null,
       "display": null,
       "flex": null,
       "flex_flow": null,
       "grid_area": null,
       "grid_auto_columns": null,
       "grid_auto_flow": null,
       "grid_auto_rows": null,
       "grid_column": null,
       "grid_gap": null,
       "grid_row": null,
       "grid_template_areas": null,
       "grid_template_columns": null,
       "grid_template_rows": null,
       "height": null,
       "justify_content": null,
       "justify_items": null,
       "left": null,
       "margin": null,
       "max_height": null,
       "max_width": null,
       "min_height": null,
       "min_width": null,
       "object_fit": null,
       "object_position": null,
       "order": null,
       "overflow": null,
       "overflow_x": null,
       "overflow_y": null,
       "padding": null,
       "right": null,
       "top": null,
       "visibility": null,
       "width": null
      }
     },
     "989038a077774cd599231450c1ef3c11": {
      "model_module": "@jupyter-widgets/controls",
      "model_module_version": "1.5.0",
      "model_name": "FloatProgressModel",
      "state": {
       "_dom_classes": [],
       "_model_module": "@jupyter-widgets/controls",
       "_model_module_version": "1.5.0",
       "_model_name": "FloatProgressModel",
       "_view_count": null,
       "_view_module": "@jupyter-widgets/controls",
       "_view_module_version": "1.5.0",
       "_view_name": "ProgressView",
       "bar_style": "success",
       "description": "",
       "description_tooltip": null,
       "layout": "IPY_MODEL_41966e6d104b48ff8efb4d1afe4c889e",
       "max": 20529.0,
       "min": 0.0,
       "orientation": "horizontal",
       "style": "IPY_MODEL_a854effff43e46fcabf185831019cd05",
       "value": 20529.0
      }
     },
     "998a68167a0e449495e4b6f28d7bdad8": {
      "model_module": "@jupyter-widgets/base",
      "model_module_version": "1.2.0",
      "model_name": "LayoutModel",
      "state": {
       "_model_module": "@jupyter-widgets/base",
       "_model_module_version": "1.2.0",
       "_model_name": "LayoutModel",
       "_view_count": null,
       "_view_module": "@jupyter-widgets/base",
       "_view_module_version": "1.2.0",
       "_view_name": "LayoutView",
       "align_content": null,
       "align_items": null,
       "align_self": null,
       "border": null,
       "bottom": null,
       "display": null,
       "flex": null,
       "flex_flow": null,
       "grid_area": null,
       "grid_auto_columns": null,
       "grid_auto_flow": null,
       "grid_auto_rows": null,
       "grid_column": null,
       "grid_gap": null,
       "grid_row": null,
       "grid_template_areas": null,
       "grid_template_columns": null,
       "grid_template_rows": null,
       "height": null,
       "justify_content": null,
       "justify_items": null,
       "left": null,
       "margin": null,
       "max_height": null,
       "max_width": null,
       "min_height": null,
       "min_width": null,
       "object_fit": null,
       "object_position": null,
       "order": null,
       "overflow": null,
       "overflow_x": null,
       "overflow_y": null,
       "padding": null,
       "right": null,
       "top": null,
       "visibility": null,
       "width": null
      }
     },
     "a854effff43e46fcabf185831019cd05": {
      "model_module": "@jupyter-widgets/controls",
      "model_module_version": "1.5.0",
      "model_name": "ProgressStyleModel",
      "state": {
       "_model_module": "@jupyter-widgets/controls",
       "_model_module_version": "1.5.0",
       "_model_name": "ProgressStyleModel",
       "_view_count": null,
       "_view_module": "@jupyter-widgets/base",
       "_view_module_version": "1.2.0",
       "_view_name": "StyleView",
       "bar_color": null,
       "description_width": ""
      }
     },
     "a9187a1a43204e969f080e0784269428": {
      "model_module": "@jupyter-widgets/controls",
      "model_module_version": "1.5.0",
      "model_name": "HBoxModel",
      "state": {
       "_dom_classes": [],
       "_model_module": "@jupyter-widgets/controls",
       "_model_module_version": "1.5.0",
       "_model_name": "HBoxModel",
       "_view_count": null,
       "_view_module": "@jupyter-widgets/controls",
       "_view_module_version": "1.5.0",
       "_view_name": "HBoxView",
       "box_style": "",
       "children": [
        "IPY_MODEL_5f37bc5df2fb4f42906b678cad5f1030",
        "IPY_MODEL_1cd7e981613d44f294495da5b20f5376",
        "IPY_MODEL_df5085d962594d80932d6ac8daebb45f"
       ],
       "layout": "IPY_MODEL_e76c810421f34771afa0908dd784ee24"
      }
     },
     "c895bf0adf094e5988fb4c03ab44cd76": {
      "model_module": "@jupyter-widgets/base",
      "model_module_version": "1.2.0",
      "model_name": "LayoutModel",
      "state": {
       "_model_module": "@jupyter-widgets/base",
       "_model_module_version": "1.2.0",
       "_model_name": "LayoutModel",
       "_view_count": null,
       "_view_module": "@jupyter-widgets/base",
       "_view_module_version": "1.2.0",
       "_view_name": "LayoutView",
       "align_content": null,
       "align_items": null,
       "align_self": null,
       "border": null,
       "bottom": null,
       "display": null,
       "flex": null,
       "flex_flow": null,
       "grid_area": null,
       "grid_auto_columns": null,
       "grid_auto_flow": null,
       "grid_auto_rows": null,
       "grid_column": null,
       "grid_gap": null,
       "grid_row": null,
       "grid_template_areas": null,
       "grid_template_columns": null,
       "grid_template_rows": null,
       "height": null,
       "justify_content": null,
       "justify_items": null,
       "left": null,
       "margin": null,
       "max_height": null,
       "max_width": null,
       "min_height": null,
       "min_width": null,
       "object_fit": null,
       "object_position": null,
       "order": null,
       "overflow": null,
       "overflow_x": null,
       "overflow_y": null,
       "padding": null,
       "right": null,
       "top": null,
       "visibility": null,
       "width": null
      }
     },
     "d2a7010b4701445c92b5a9e72b64a755": {
      "model_module": "@jupyter-widgets/controls",
      "model_module_version": "1.5.0",
      "model_name": "DescriptionStyleModel",
      "state": {
       "_model_module": "@jupyter-widgets/controls",
       "_model_module_version": "1.5.0",
       "_model_name": "DescriptionStyleModel",
       "_view_count": null,
       "_view_module": "@jupyter-widgets/base",
       "_view_module_version": "1.2.0",
       "_view_name": "StyleView",
       "description_width": ""
      }
     },
     "df2347ac9f3e4ded945d2732f803448d": {
      "model_module": "@jupyter-widgets/base",
      "model_module_version": "1.2.0",
      "model_name": "LayoutModel",
      "state": {
       "_model_module": "@jupyter-widgets/base",
       "_model_module_version": "1.2.0",
       "_model_name": "LayoutModel",
       "_view_count": null,
       "_view_module": "@jupyter-widgets/base",
       "_view_module_version": "1.2.0",
       "_view_name": "LayoutView",
       "align_content": null,
       "align_items": null,
       "align_self": null,
       "border": null,
       "bottom": null,
       "display": null,
       "flex": null,
       "flex_flow": null,
       "grid_area": null,
       "grid_auto_columns": null,
       "grid_auto_flow": null,
       "grid_auto_rows": null,
       "grid_column": null,
       "grid_gap": null,
       "grid_row": null,
       "grid_template_areas": null,
       "grid_template_columns": null,
       "grid_template_rows": null,
       "height": null,
       "justify_content": null,
       "justify_items": null,
       "left": null,
       "margin": null,
       "max_height": null,
       "max_width": null,
       "min_height": null,
       "min_width": null,
       "object_fit": null,
       "object_position": null,
       "order": null,
       "overflow": null,
       "overflow_x": null,
       "overflow_y": null,
       "padding": null,
       "right": null,
       "top": null,
       "visibility": null,
       "width": null
      }
     },
     "df5085d962594d80932d6ac8daebb45f": {
      "model_module": "@jupyter-widgets/controls",
      "model_module_version": "1.5.0",
      "model_name": "HTMLModel",
      "state": {
       "_dom_classes": [],
       "_model_module": "@jupyter-widgets/controls",
       "_model_module_version": "1.5.0",
       "_model_name": "HTMLModel",
       "_view_count": null,
       "_view_module": "@jupyter-widgets/controls",
       "_view_module_version": "1.5.0",
       "_view_name": "HTMLView",
       "description": "",
       "description_tooltip": null,
       "layout": "IPY_MODEL_998a68167a0e449495e4b6f28d7bdad8",
       "placeholder": "​",
       "style": "IPY_MODEL_510ec36a9abd41b7ba35f545a0d40eb1",
       "value": " 1856/1856 [04:06&lt;00:00,  6.89it/s]"
      }
     },
     "e76c810421f34771afa0908dd784ee24": {
      "model_module": "@jupyter-widgets/base",
      "model_module_version": "1.2.0",
      "model_name": "LayoutModel",
      "state": {
       "_model_module": "@jupyter-widgets/base",
       "_model_module_version": "1.2.0",
       "_model_name": "LayoutModel",
       "_view_count": null,
       "_view_module": "@jupyter-widgets/base",
       "_view_module_version": "1.2.0",
       "_view_name": "LayoutView",
       "align_content": null,
       "align_items": null,
       "align_self": null,
       "border": null,
       "bottom": null,
       "display": null,
       "flex": null,
       "flex_flow": null,
       "grid_area": null,
       "grid_auto_columns": null,
       "grid_auto_flow": null,
       "grid_auto_rows": null,
       "grid_column": null,
       "grid_gap": null,
       "grid_row": null,
       "grid_template_areas": null,
       "grid_template_columns": null,
       "grid_template_rows": null,
       "height": null,
       "justify_content": null,
       "justify_items": null,
       "left": null,
       "margin": null,
       "max_height": null,
       "max_width": null,
       "min_height": null,
       "min_width": null,
       "object_fit": null,
       "object_position": null,
       "order": null,
       "overflow": null,
       "overflow_x": null,
       "overflow_y": null,
       "padding": null,
       "right": null,
       "top": null,
       "visibility": null,
       "width": null
      }
     },
     "f3a522d483cd4e5e8b337a4b75389a57": {
      "model_module": "@jupyter-widgets/controls",
      "model_module_version": "1.5.0",
      "model_name": "HTMLModel",
      "state": {
       "_dom_classes": [],
       "_model_module": "@jupyter-widgets/controls",
       "_model_module_version": "1.5.0",
       "_model_name": "HTMLModel",
       "_view_count": null,
       "_view_module": "@jupyter-widgets/controls",
       "_view_module_version": "1.5.0",
       "_view_name": "HTMLView",
       "description": "",
       "description_tooltip": null,
       "layout": "IPY_MODEL_df2347ac9f3e4ded945d2732f803448d",
       "placeholder": "​",
       "style": "IPY_MODEL_60cbebb2ae1a45ec970c833ccf421b98",
       "value": "100%"
      }
     }
    },
    "version_major": 2,
    "version_minor": 0
   }
  }
 },
 "nbformat": 4,
 "nbformat_minor": 5
}
